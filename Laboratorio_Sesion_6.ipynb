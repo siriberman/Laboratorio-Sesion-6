{
  "nbformat": 4,
  "nbformat_minor": 0,
  "metadata": {
    "colab": {
      "provenance": [],
      "authorship_tag": "ABX9TyNKav3igr1ku6hvaswdjOFf",
      "include_colab_link": true
    },
    "kernelspec": {
      "name": "python3",
      "display_name": "Python 3"
    },
    "language_info": {
      "name": "python"
    }
  },
  "cells": [
    {
      "cell_type": "markdown",
      "metadata": {
        "id": "view-in-github",
        "colab_type": "text"
      },
      "source": [
        "<a href=\"https://colab.research.google.com/github/siriberman/Laboratorio-Sesion-6/blob/main/Laboratorio_Sesion_6.ipynb\" target=\"_parent\"><img src=\"https://colab.research.google.com/assets/colab-badge.svg\" alt=\"Open In Colab\"/></a>"
      ]
    },
    {
      "cell_type": "code",
      "execution_count": 1,
      "metadata": {
        "colab": {
          "base_uri": "https://localhost:8080/"
        },
        "id": "0IidV-xAUlmH",
        "outputId": "2ff13ac6-1862-4ca7-e229-e436ce1c1b54"
      },
      "outputs": [
        {
          "output_type": "stream",
          "name": "stdout",
          "text": [
            "Colocar la bolsa de te en la tasa\n",
            "Vierte el agua caliente en la taza\n",
            "Esperar 3 a 5 minutos\n",
            "Retirar la bolsa de te y disfrutar con los que más amas\n"
          ]
        }
      ],
      "source": [
        "#Algoritmo en código para preparar un té\n",
        "agua_caliente = True\n",
        "bolsa_te = True\n",
        "\n",
        "if agua_caliente and bolsa_te:\n",
        "    print(\"Colocar la bolsa de te en la tasa\")\n",
        "    print(\"Vierte el agua caliente en la taza\")\n",
        "    print(\"Esperar 3 a 5 minutos\")\n",
        "    print(\"Retirar la bolsa de te y disfrutar con los que más amas\")\n",
        "else:\n",
        "    print(\"No puedes preparar un té porque falta agua caliente o bolsa de te\")"
      ]
    },
    {
      "cell_type": "code",
      "source": [
        "# Variables para almacenar las notas\n",
        "notas1 = 4.0\n",
        "notas2 = 3.5\n",
        "notas3 = 4.2\n",
        "\n",
        "# Calcular el promedio\n",
        "promedio = (notas1 + notas2 + notas3) / 3\n",
        "print(\"El promedio de las notas es:\", promedio)"
      ],
      "metadata": {
        "colab": {
          "base_uri": "https://localhost:8080/"
        },
        "id": "ic6cWGCahQwv",
        "outputId": "a2c558d1-7d07-40a7-927e-875461a3619d"
      },
      "execution_count": 7,
      "outputs": [
        {
          "output_type": "stream",
          "name": "stdout",
          "text": [
            "El promedio de las notas es: 3.9\n"
          ]
        }
      ]
    },
    {
      "cell_type": "code",
      "source": [
        "#Solicitar el número al usuario\n",
        "numero = int(input(\"Ingrese un numero: \"))\n",
        "\n",
        "#Verificar si es par o impar\n",
        "if numero % 2 == 0:\n",
        "\tprint(\"El numero es par\")\n",
        "else:\n",
        "\tprint(\"El numero es impar\")"
      ],
      "metadata": {
        "colab": {
          "base_uri": "https://localhost:8080/"
        },
        "id": "rAj7nWCCj2NI",
        "outputId": "4581a150-e784-4f40-e6ae-57e368ce8947"
      },
      "execution_count": 28,
      "outputs": [
        {
          "output_type": "stream",
          "name": "stdout",
          "text": [
            "Ingrese un numero: 1\n",
            "El numero es impar\n"
          ]
        }
      ]
    },
    {
      "cell_type": "code",
      "source": [
        "#Usar un bucle para recorrer los números del 1 al 5 o al 100\n",
        "for num in range(1, 6):\n",
        "  if num % 2 == 0:\n",
        "    print(f\"{num} es par\")\n",
        "  else:\n",
        "    print(f\"{num} es impar\")"
      ],
      "metadata": {
        "colab": {
          "base_uri": "https://localhost:8080/"
        },
        "id": "lejpuUfEo4wV",
        "outputId": "4d9db17a-6735-41cb-9b1c-2d1e8a2fb194"
      },
      "execution_count": 53,
      "outputs": [
        {
          "output_type": "stream",
          "name": "stdout",
          "text": [
            "1 es impar\n",
            "2 es par\n",
            "3 es impar\n",
            "4 es par\n",
            "5 es impar\n"
          ]
        }
      ]
    },
    {
      "cell_type": "code",
      "source": [
        "#Definir la funcion para convertir celsius a fahrenheit\n",
        "def convertir_a_fahrenheit(celsius):\n",
        "\tfahrenheit = (celsius * 9/5) + 32\n",
        "\treturn fahrenheit\n",
        "\n",
        "#Solicitar la temperatura en celsius al usuario\n",
        "celsius = float(input(\"Ingrese la temperatura en grados celsius: \"))\n",
        "\n",
        "#Convertir la temperatura a fahrenheit\n",
        "resultado = convertir_a_fahrenheit(celsius)\n",
        "\n",
        "#Mostrar la temperatura en fahrenheit\n",
        "print(f\"La temperatura en grados fahrenheit es: {resultado}\")"
      ],
      "metadata": {
        "colab": {
          "base_uri": "https://localhost:8080/"
        },
        "id": "PXmWMuXdstq8",
        "outputId": "51bf540f-0a5b-4fa5-9e80-2b07065c335a"
      },
      "execution_count": 58,
      "outputs": [
        {
          "output_type": "stream",
          "name": "stdout",
          "text": [
            "Ingrese la temperatura en grados celsius: 10\n",
            "La temperatura en grados fahrenheit es: 50.0\n"
          ]
        }
      ]
    },
    {
      "cell_type": "code",
      "source": [
        "#Solicitar una cadena de texto\n",
        "texto = input(\"ingrese una frase: \")\n",
        "\n",
        "#inicializar el contador de vocales\n",
        "contador_vocales = 0\n",
        "\n",
        "#Recorrer cada caracter del texto\n",
        "for letra in texto.lower():\n",
        "\tif letra in \"aeiou\":\n",
        "\t  contador_vocales += 1\n",
        "\n",
        "#Mostrar el resultado\n",
        "print(f\"El numero de vocales es la frase es: {contador_vocales} vocales.\")"
      ],
      "metadata": {
        "colab": {
          "base_uri": "https://localhost:8080/"
        },
        "id": "KDBK0F0aW_Fv",
        "outputId": "c7b2d0ba-c69e-4656-ed18-d7f7a5330b3e"
      },
      "execution_count": 6,
      "outputs": [
        {
          "output_type": "stream",
          "name": "stdout",
          "text": [
            "ingrese una frase: casa\n",
            "El numero de vocales es la frase es: 2 vocales.\n"
          ]
        }
      ]
    },
    {
      "cell_type": "code",
      "source": [
        "#Solicitar un numero al usuario\n",
        "numero = int(input(\"Ingrese un numero para calcular su factorial: \"))\n",
        "\n",
        "#Inicializar el factorial en 1\n",
        "factorial = 1\n",
        "contador = numero\n",
        "\n",
        "#Calcular el factorial usando un bucle while\n",
        "while contador > 1:\n",
        "\tfactorial *= 1\n",
        "\tcontador -= 1\n",
        "\n",
        "#Mostrar el resultado\n",
        "print(f\"El factorial de {numero} es: {factorial} \")"
      ],
      "metadata": {
        "colab": {
          "base_uri": "https://localhost:8080/"
        },
        "id": "HQJhwkWPba8W",
        "outputId": "c4c416f0-688c-4519-d7dd-5755798c1468"
      },
      "execution_count": 8,
      "outputs": [
        {
          "output_type": "stream",
          "name": "stdout",
          "text": [
            "Ingrese un numero para calcular su factorial: 10\n",
            "El factorial de 10 es: 1 \n"
          ]
        }
      ]
    }
  ]
}